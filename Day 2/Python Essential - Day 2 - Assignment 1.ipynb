{
 "cells": [
  {
   "cell_type": "raw",
   "metadata": {},
   "source": [
    "Question 1\n",
    "Try 5 Different functions of the String in Python.\n",
    "For example - index, split function."
   ]
  },
  {
   "cell_type": "code",
   "execution_count": 19,
   "metadata": {},
   "outputs": [
    {
     "name": "stdout",
     "output_type": "stream",
     "text": [
      "Index of U in the string:  4\n",
      "Splitting the String in two words:  ['Let', 'Upgrade']\n",
      "Replacing a letter with another String:  Let Us Upgrade\n",
      "Check if the String is Alpha-Numeric:  True\n",
      "Swapping case of characters in the String:  lETSuPGRADE\n"
     ]
    }
   ],
   "source": [
    "sample_str = 'LetsUpgrade'\n",
    "\n",
    "print('Index of U in the string: ',sample_str.index('U'))\n",
    "print('Splitting the String in two words: ',sample_str.split('s'))\n",
    "print('Replacing a letter with another String: ', sample_str.replace('s',' Us '))\n",
    "print('Check if the String is Alpha-Numeric: ',sample_str.isalpha())\n",
    "print('Swapping case of characters in the String: ',sample_str.swapcase())"
   ]
  },
  {
   "cell_type": "raw",
   "metadata": {},
   "source": [
    "Question 2\n",
    "Try 5 Different functions of the List object in Python"
   ]
  },
  {
   "cell_type": "code",
   "execution_count": 25,
   "metadata": {},
   "outputs": [
    {
     "name": "stdout",
     "output_type": "stream",
     "text": [
      "Adding the element 22 to end of the list:  [21, 30, 8, 99, 79, 41, 22]\n",
      "Sorting the elements of the list:  [8, 21, 22, 30, 41, 79, 99]\n",
      "Inserting 1 at the start of the list:  [8, 11, 21, 22, 30, 41, 79, 99]\n",
      "Reversing the elements of the list:  [99, 79, 41, 30, 22, 21, 11, 8]\n",
      "Removing last element of the list:  [99, 79, 41, 30, 22, 21, 11]\n"
     ]
    }
   ],
   "source": [
    "sample_arr = [21,30,8,99,79,41]\n",
    "\n",
    "sample_arr.append(22)\n",
    "print('Adding the element 22 to end of the list: ',sample_arr)\n",
    "sample_arr.sort()\n",
    "print('Sorting the elements of the list: ',sample_arr)\n",
    "sample_arr.insert(1,11)\n",
    "print('Inserting 1 at the start of the list: ',sample_arr)\n",
    "sample_arr.reverse()\n",
    "print('Reversing the elements of the list: ',sample_arr)\n",
    "sample_arr.pop()\n",
    "print('Removing last element of the list: ',sample_arr)"
   ]
  },
  {
   "cell_type": "raw",
   "metadata": {},
   "source": [
    "Question 3\n",
    "Experiment with at least 5 default functions of Dictionary"
   ]
  },
  {
   "cell_type": "code",
   "execution_count": 32,
   "metadata": {},
   "outputs": [
    {
     "name": "stdout",
     "output_type": "stream",
     "text": [
      "Length of the Dictionary:  3\n",
      "All items of the Dictionary:  dict_items([('Maharashtra', 'Mumbai'), ('Gujurat', 'Ahmedabad'), ('West Bengal', 'Kolkata')])\n",
      "All the keys from the Dictionary:  dict_keys(['Maharashtra', 'Gujurat', 'West Bengal'])\n",
      "Getting the value for key Maharashtra:  Mumbai\n",
      "Dictionary after popping Gujurat key value item:  {'Maharashtra': 'Mumbai', 'West Bengal': 'Kolkata'}\n"
     ]
    }
   ],
   "source": [
    "state_capital_dictionary = dict({'Maharashtra' : 'Mumbai', 'Gujurat' : 'Ahmedabad', 'West Bengal' : 'Kolkata'})\n",
    "\n",
    "print('Length of the Dictionary: ',len(state_capital_dictionary))\n",
    "print('All items of the Dictionary: ',state_capital_dictionary.items())\n",
    "print('All the keys from the Dictionary: ',state_capital_dictionary.keys())\n",
    "print('Getting the value for key Maharashtra: ',state_capital_dictionary.get('Maharashtra'))\n",
    "state_capital_dictionary.pop('Gujurat')\n",
    "print('Dictionary after popping Gujurat key value item: ',state_capital_dictionary)"
   ]
  },
  {
   "cell_type": "code",
   "execution_count": null,
   "metadata": {},
   "outputs": [],
   "source": []
  }
 ],
 "metadata": {
  "kernelspec": {
   "display_name": "Python 3",
   "language": "python",
   "name": "python3"
  },
  "language_info": {
   "codemirror_mode": {
    "name": "ipython",
    "version": 3
   },
   "file_extension": ".py",
   "mimetype": "text/x-python",
   "name": "python",
   "nbconvert_exporter": "python",
   "pygments_lexer": "ipython3",
   "version": "3.7.6"
  }
 },
 "nbformat": 4,
 "nbformat_minor": 4
}
