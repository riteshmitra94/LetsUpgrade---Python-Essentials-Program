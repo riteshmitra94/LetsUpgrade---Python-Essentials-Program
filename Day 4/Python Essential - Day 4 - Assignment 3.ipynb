{
 "cells": [
  {
   "cell_type": "raw",
   "metadata": {},
   "source": [
    "Question 1\n",
    "Write down a program in Python for Opening a File and Writing \" I Love LetsUpgrade\" And close\n",
    "it, and read it back again, and then append some data to it and close it."
   ]
  },
  {
   "cell_type": "code",
   "execution_count": 11,
   "metadata": {},
   "outputs": [
    {
     "name": "stdout",
     "output_type": "stream",
     "text": [
      "I Love LetsUpgrade\n",
      "Here is one more line appended\n"
     ]
    }
   ],
   "source": [
    "#creating the file\n",
    "sample_file = open(\"test_file.txt\", \"w\")\n",
    "sample_file.write('I Love LetsUpgrade')\n",
    "sample_file.close()\n",
    "sample_file = open(\"test_file.txt\", \"a\")\n",
    "sample_file.write('\\nHere is one more line appended')\n",
    "sample_file.close()\n",
    "sample_file = open(\"test_file.txt\", \"r\")\n",
    "print(sample_file.read())\n",
    "sample_file.close()"
   ]
  },
  {
   "cell_type": "raw",
   "metadata": {},
   "source": [
    "Question 2\n",
    "Write a function which can return a Factorial of any numbers as INT, given in the argument."
   ]
  },
  {
   "cell_type": "code",
   "execution_count": 6,
   "metadata": {},
   "outputs": [
    {
     "name": "stdout",
     "output_type": "stream",
     "text": [
      "Provide the number for calculating the factorial: 5\n",
      "Factorial of  5  is:  120\n"
     ]
    }
   ],
   "source": [
    "num = int(input('Provide the number for calculating the factorial: '))\n",
    "\n",
    "def calc_factorial(num):    \n",
    "    \n",
    "    if num==1:\n",
    "        return 1\n",
    "    else:\n",
    "        factorial = num * calc_factorial(num-1)\n",
    "     \n",
    "    return factorial\n",
    "\n",
    "print('Factorial of ',num,' is: ',calc_factorial(num))"
   ]
  }
 ],
 "metadata": {
  "kernelspec": {
   "display_name": "Python 3",
   "language": "python",
   "name": "python3"
  },
  "language_info": {
   "codemirror_mode": {
    "name": "ipython",
    "version": 3
   },
   "file_extension": ".py",
   "mimetype": "text/x-python",
   "name": "python",
   "nbconvert_exporter": "python",
   "pygments_lexer": "ipython3",
   "version": "3.7.6"
  }
 },
 "nbformat": 4,
 "nbformat_minor": 4
}
