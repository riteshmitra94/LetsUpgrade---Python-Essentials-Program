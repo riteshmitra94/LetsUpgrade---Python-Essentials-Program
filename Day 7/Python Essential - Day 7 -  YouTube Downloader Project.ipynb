{
 "cells": [
  {
   "cell_type": "code",
   "execution_count": 1,
   "metadata": {},
   "outputs": [
    {
     "name": "stdout",
     "output_type": "stream",
     "text": [
      "Requirement already satisfied: pytube in c:\\users\\ritesh\\anaconda3\\lib\\site-packages (10.0.0)\n",
      "Requirement already satisfied: typing-extensions in c:\\users\\ritesh\\anaconda3\\lib\\site-packages (from pytube) (3.7.4.3)\n",
      "Note: you may need to restart the kernel to use updated packages.\n"
     ]
    }
   ],
   "source": [
    "pip install pytube"
   ]
  },
  {
   "cell_type": "code",
   "execution_count": 2,
   "metadata": {},
   "outputs": [],
   "source": [
    "from tkinter import *"
   ]
  },
  {
   "cell_type": "code",
   "execution_count": 3,
   "metadata": {},
   "outputs": [],
   "source": [
    "from pytube import YouTube"
   ]
  },
  {
   "cell_type": "code",
   "execution_count": 4,
   "metadata": {},
   "outputs": [],
   "source": [
    "root=Tk()\n",
    "\n",
    "root.geometry(\"640x360+200+200\")\n",
    "root.title(\"YouTube Downloader\")\n",
    "root.configure(background=\"#F5F5F5\")\n",
    "root.resizable(width=False, height=False)\n",
    "def Youtube():\n",
    "    link=var.get()\n",
    "    ytubevideo=YouTube(link).streams.filter(file_extension='mp4').order_by('resolution').desc().first()\n",
    "    ytubevideo.download(\"C:\\\\Users\\\\Ritesh\\\\Desktop\")\n",
    "l1=Label(root,text=\"YouTube Video URL: \",fg=\"red\",font=(\"bold\",10))\n",
    "l1.place(x=100,y=100)\n",
    "var=StringVar()\n",
    "e1=Entry(root,textvariable=var,width=60)\n",
    "e1.place(x=230,y=100)\n",
    "b1=Button(root,text=\"Download\",bg=\"Red\",width=10,fg=\"Black\", command=Youtube)\n",
    "b1.place(x=250,y=140)\n",
    "root.mainloop()"
   ]
  },
  {
   "cell_type": "code",
   "execution_count": null,
   "metadata": {},
   "outputs": [],
   "source": []
  }
 ],
 "metadata": {
  "kernelspec": {
   "display_name": "Python 3",
   "language": "python",
   "name": "python3"
  },
  "language_info": {
   "codemirror_mode": {
    "name": "ipython",
    "version": 3
   },
   "file_extension": ".py",
   "mimetype": "text/x-python",
   "name": "python",
   "nbconvert_exporter": "python",
   "pygments_lexer": "ipython3",
   "version": "3.7.6"
  }
 },
 "nbformat": 4,
 "nbformat_minor": 4
}
