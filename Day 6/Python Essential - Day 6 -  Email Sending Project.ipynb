{
 "cells": [
  {
   "cell_type": "code",
   "execution_count": 2,
   "metadata": {},
   "outputs": [
    {
     "name": "stdout",
     "output_type": "stream",
     "text": [
      "Requirement already satisfied: emails in c:\\users\\ritesh\\anaconda3\\lib\\site-packages (0.6)\n",
      "Requirement already satisfied: python-dateutil in c:\\users\\ritesh\\anaconda3\\lib\\site-packages (from emails) (2.8.1)\n",
      "Requirement already satisfied: premailer in c:\\users\\ritesh\\anaconda3\\lib\\site-packages (from emails) (3.7.0)\n",
      "Requirement already satisfied: lxml in c:\\users\\ritesh\\anaconda3\\lib\\site-packages (from emails) (4.5.0)\n",
      "Requirement already satisfied: requests in c:\\users\\ritesh\\anaconda3\\lib\\site-packages (from emails) (2.22.0)\n",
      "Requirement already satisfied: chardet in c:\\users\\ritesh\\anaconda3\\lib\\site-packages (from emails) (3.0.4)\n",
      "Requirement already satisfied: cssutils in c:\\users\\ritesh\\anaconda3\\lib\\site-packages (from emails) (1.0.2)\n",
      "Requirement already satisfied: six>=1.5 in c:\\users\\ritesh\\anaconda3\\lib\\site-packages (from python-dateutil->emails) (1.14.0)\n",
      "Requirement already satisfied: cachetools in c:\\users\\ritesh\\anaconda3\\lib\\site-packages (from premailer->emails) (4.2.0)\n",
      "Requirement already satisfied: cssselect in c:\\users\\ritesh\\anaconda3\\lib\\site-packages (from premailer->emails) (1.1.0)\n",
      "Requirement already satisfied: idna<2.9,>=2.5 in c:\\users\\ritesh\\anaconda3\\lib\\site-packages (from requests->emails) (2.8)\n",
      "Requirement already satisfied: certifi>=2017.4.17 in c:\\users\\ritesh\\anaconda3\\lib\\site-packages (from requests->emails) (2019.11.28)\n",
      "Requirement already satisfied: urllib3!=1.25.0,!=1.25.1,<1.26,>=1.21.1 in c:\\users\\ritesh\\anaconda3\\lib\\site-packages (from requests->emails) (1.25.8)\n",
      "Note: you may need to restart the kernel to use updated packages.\n"
     ]
    }
   ],
   "source": [
    "pip install emails"
   ]
  },
  {
   "cell_type": "code",
   "execution_count": 13,
   "metadata": {},
   "outputs": [],
   "source": [
    "import emails"
   ]
  },
  {
   "cell_type": "code",
   "execution_count": 14,
   "metadata": {},
   "outputs": [],
   "source": [
    "message=emails.html(html='''<p>Hello,<br/>This is a sample email to demonstrate the email sending functionality of Python.<br/>Regards,<br/>Ritesh</p>\n",
    "<p><br></p>''',subject=\"Python project\",mail_from=('Test Email','Sample User'))\n",
    "\n",
    "mail_via_python=message.send(to='riteshmitra1994@gmail.com', \n",
    "                             smtp={'host': 'smtp.gmail.com', \n",
    "                                   'timeout': 5,\n",
    "                                   'port':587,\n",
    "                                   'tls':True,\n",
    "                                   'user':'********@gmail.com',\n",
    "                                   'password':'***********'})"
   ]
  },
  {
   "cell_type": "code",
   "execution_count": 15,
   "metadata": {},
   "outputs": [
    {
     "data": {
      "text/plain": [
       "<emails.backend.SMTPResponse status_code=250 status_text=b'2.0.0 OK  1608399160 77sm12302711pfx.156 - gsmtp'>"
      ]
     },
     "execution_count": 15,
     "metadata": {},
     "output_type": "execute_result"
    }
   ],
   "source": [
    "mail_via_python"
   ]
  }
 ],
 "metadata": {
  "kernelspec": {
   "display_name": "Python 3",
   "language": "python",
   "name": "python3"
  },
  "language_info": {
   "codemirror_mode": {
    "name": "ipython",
    "version": 3
   },
   "file_extension": ".py",
   "mimetype": "text/x-python",
   "name": "python",
   "nbconvert_exporter": "python",
   "pygments_lexer": "ipython3",
   "version": "3.7.6"
  }
 },
 "nbformat": 4,
 "nbformat_minor": 4
}
