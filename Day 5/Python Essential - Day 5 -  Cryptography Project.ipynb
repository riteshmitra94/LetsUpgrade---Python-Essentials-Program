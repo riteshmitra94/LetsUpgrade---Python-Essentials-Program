{
 "cells": [
  {
   "cell_type": "code",
   "execution_count": 35,
   "metadata": {},
   "outputs": [
    {
     "name": "stdout",
     "output_type": "stream",
     "text": [
      "Type the message you want to encrypt: hello\n",
      "The encrypted message is:  b'gAAAAABf3iFywtMWqaoWB3zzBM-wvupvtuZE0BtzSRkxetCW3c0R6RxLNPiGuFyo9wycWteCS2uCTt-NmmWkJIZmF1MeWN7Ywg=='\n",
      "\n",
      "The key used for encryption and decryption is:  b'0CTR3wbJx37vdgbfaZEST88Fdu2kOK1dZui94Iz7B88='\n",
      "\n",
      "The decrypted message is:  hello\n"
     ]
    }
   ],
   "source": [
    "from cryptography.fernet import Fernet\n",
    "\n",
    "def generateSecretKey():\n",
    "    secret_key = Fernet.generate_key()\n",
    "    key = open('Secret_Key.txt', 'wb')\n",
    "    key.write(secret_key)\n",
    "    key.close()\n",
    "\n",
    "def fetch_key():\n",
    "    readKey = open('Secret_Key.txt', 'rb').read()\n",
    "    return readKey\n",
    "\n",
    "def encrypt_Text(text_input):\n",
    "    generateSecretKey()\n",
    "    encryption_key = fetch_key()\n",
    "    fernet_obj = Fernet(encryption_key)\n",
    "    encrypted_message = fernet_obj.encrypt(text_input.encode('utf-8'))\n",
    "    return encrypted_message\n",
    "\n",
    "def decrypt_Text(encrypted_message):\n",
    "    decryption_key = fetch_key()\n",
    "    fernet_obj = Fernet(decryption_key)\n",
    "    decrypted_message = fernet_obj.decrypt(encrypted_message)\n",
    "    return decrypted_message\n",
    "\n",
    "generateSecretKey()\n",
    "message = input('Type the message you want to encrypt: ')\n",
    "encrypted_message = encrypt_Text(message)\n",
    "print('The encrypted message is: ',encrypted_message)\n",
    "\n",
    "print('\\nThe key used for encryption and decryption is: ',fetch_key())\n",
    "\n",
    "decoded_message = decrypt_Text(encrypted_message)\n",
    "print('\\nThe decrypted message is: ',decoded_message.decode('utf-8'))"
   ]
  }
 ],
 "metadata": {
  "kernelspec": {
   "display_name": "Python 3",
   "language": "python",
   "name": "python3"
  },
  "language_info": {
   "codemirror_mode": {
    "name": "ipython",
    "version": 3
   },
   "file_extension": ".py",
   "mimetype": "text/x-python",
   "name": "python",
   "nbconvert_exporter": "python",
   "pygments_lexer": "ipython3",
   "version": "3.7.6"
  }
 },
 "nbformat": 4,
 "nbformat_minor": 4
}
